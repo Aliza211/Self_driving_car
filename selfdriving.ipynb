{
  "nbformat": 4,
  "nbformat_minor": 0,
  "metadata": {
    "colab": {
      "name": "selfdriving.ipynb",
      "provenance": [],
      "collapsed_sections": []
    },
    "kernelspec": {
      "display_name": "Python 3",
      "name": "python3"
    },
    "language_info": {
      "name": "python"
    }
  },
  "cells": [
    {
      "cell_type": "code",
      "metadata": {
        "colab": {
          "base_uri": "https://localhost:8080/"
        },
        "id": "AaB5T84Ja-OT",
        "outputId": "346300d4-f17e-4947-f4af-3d45c92c674a"
      },
      "source": [
        "from google.colab import drive\n",
        "drive.mount('/content/drive')"
      ],
      "execution_count": 1,
      "outputs": [
        {
          "output_type": "stream",
          "name": "stdout",
          "text": [
            "Drive already mounted at /content/drive; to attempt to forcibly remount, call drive.mount(\"/content/drive\", force_remount=True).\n"
          ]
        }
      ]
    },
    {
      "cell_type": "code",
      "metadata": {
        "id": "Wsyc0yBcASEs"
      },
      "source": [
        "!unzip \"/content/drive/MyDrive/track-master 2.zip\""
      ],
      "execution_count": null,
      "outputs": []
    },
    {
      "cell_type": "code",
      "metadata": {
        "id": "VUEtizD-Rns1"
      },
      "source": [
        "import pandas as pd\n",
        "import numpy as np\n",
        "import matplotlib.pyplot as plt\n",
        "import sklearn \n",
        "from sklearn.utils import shuffle\n",
        "import os\n",
        "from sklearn.model_selection import train_test_split\n",
        "import matplotlib.image as mpimg\n",
        "from imgaug import augmenters as iaa\n",
        "import cv2 \n",
        "from tensorflow.keras.layers import Convolution2D,Flatten,Dense\n",
        "from tensorflow.keras.optimizers import Adam\n",
        "import random\n",
        "import tensorflow\n",
        "from tensorflow.keras.models import Sequential,Model\n",
        "from tensorflow.keras.layers import PReLU\n",
        "from tensorflow.python.keras import losses\n",
        "from tensorflow.keras.optimizers import Adam, Adagrad\n",
        "from tensorflow.python.keras.callbacks import EarlyStopping\n",
        "from tensorflow.python.keras import regularizers\n",
        "from tensorflow.keras.preprocessing.image import ImageDataGenerator\n",
        "#import keras\n",
        "\n"
      ],
      "execution_count": 3,
      "outputs": []
    },
    {
      "cell_type": "code",
      "metadata": {
        "id": "D-pvhV3GAp3z"
      },
      "source": [
        "def getName(pathname):\n",
        "  a=pathname.split(\"\\\\\")[-1]\n",
        "  return a\n"
      ],
      "execution_count": 5,
      "outputs": []
    },
    {
      "cell_type": "code",
      "metadata": {
        "colab": {
          "base_uri": "https://localhost:8080/",
          "height": 302
        },
        "id": "dmXKCYfykIYz",
        "outputId": "f8375dbc-072f-4618-cbdd-fa9f753ab734"
      },
      "source": [
        "columns=['centre','left','right','steering','Throttle','Brake']\n",
        "data=pd.read_csv(\"/content/track-master/driving_log.csv\",names=columns,index_col=False)\n",
        "#data.head(10)\n",
        "#print(data['centre'][0])\n",
        "data['centre']=data['centre'].apply(getName)\n",
        "data['left']=data['left'].apply(getName)\n",
        "data['right']=data['right'].apply(getName)\n",
        "data.tail(5)\n",
        "#data.drop(rows=[\"center_2019_04_02_19_38_12_064.jpg\"])"
      ],
      "execution_count": 23,
      "outputs": [
        {
          "output_type": "stream",
          "name": "stderr",
          "text": [
            "/usr/local/lib/python3.7/dist-packages/pandas/util/_decorators.py:311: ParserWarning: Length of header or names does not match length of data. This leads to a loss of data with index_col=False.\n",
            "  return func(*args, **kwargs)\n"
          ]
        },
        {
          "output_type": "execute_result",
          "data": {
            "text/plain": [
              "                                  centre                              left  \\\n",
              "4048  center_2018_07_16_17_16_31_474.jpg  left_2018_07_16_17_16_31_474.jpg   \n",
              "4049  center_2018_07_16_17_16_31_544.jpg  left_2018_07_16_17_16_31_544.jpg   \n",
              "4050  center_2018_07_16_17_16_31_617.jpg  left_2018_07_16_17_16_31_617.jpg   \n",
              "4051  center_2018_07_16_17_16_31_685.jpg  left_2018_07_16_17_16_31_685.jpg   \n",
              "4052  center_2018_07_16_17_16_32_161.jpg  left_2018_07_16_17_16_32_161.jpg   \n",
              "\n",
              "                                  right  steering  Throttle  Brake  \n",
              "4048  right_2018_07_16_17_16_31_474.jpg       0.0       0.0    0.0  \n",
              "4049  right_2018_07_16_17_16_31_544.jpg       0.0       0.0    0.0  \n",
              "4050  right_2018_07_16_17_16_31_617.jpg       0.0       0.0    0.0  \n",
              "4051  right_2018_07_16_17_16_31_685.jpg       0.0       0.0    0.0  \n",
              "4052  right_2018_07_16_17_16_32_161.jpg       0.0       0.0    0.0  "
            ],
            "text/html": [
              "\n",
              "  <div id=\"df-2c22513c-4371-45b6-8547-63ff1f4b7872\">\n",
              "    <div class=\"colab-df-container\">\n",
              "      <div>\n",
              "<style scoped>\n",
              "    .dataframe tbody tr th:only-of-type {\n",
              "        vertical-align: middle;\n",
              "    }\n",
              "\n",
              "    .dataframe tbody tr th {\n",
              "        vertical-align: top;\n",
              "    }\n",
              "\n",
              "    .dataframe thead th {\n",
              "        text-align: right;\n",
              "    }\n",
              "</style>\n",
              "<table border=\"1\" class=\"dataframe\">\n",
              "  <thead>\n",
              "    <tr style=\"text-align: right;\">\n",
              "      <th></th>\n",
              "      <th>centre</th>\n",
              "      <th>left</th>\n",
              "      <th>right</th>\n",
              "      <th>steering</th>\n",
              "      <th>Throttle</th>\n",
              "      <th>Brake</th>\n",
              "    </tr>\n",
              "  </thead>\n",
              "  <tbody>\n",
              "    <tr>\n",
              "      <th>4048</th>\n",
              "      <td>center_2018_07_16_17_16_31_474.jpg</td>\n",
              "      <td>left_2018_07_16_17_16_31_474.jpg</td>\n",
              "      <td>right_2018_07_16_17_16_31_474.jpg</td>\n",
              "      <td>0.0</td>\n",
              "      <td>0.0</td>\n",
              "      <td>0.0</td>\n",
              "    </tr>\n",
              "    <tr>\n",
              "      <th>4049</th>\n",
              "      <td>center_2018_07_16_17_16_31_544.jpg</td>\n",
              "      <td>left_2018_07_16_17_16_31_544.jpg</td>\n",
              "      <td>right_2018_07_16_17_16_31_544.jpg</td>\n",
              "      <td>0.0</td>\n",
              "      <td>0.0</td>\n",
              "      <td>0.0</td>\n",
              "    </tr>\n",
              "    <tr>\n",
              "      <th>4050</th>\n",
              "      <td>center_2018_07_16_17_16_31_617.jpg</td>\n",
              "      <td>left_2018_07_16_17_16_31_617.jpg</td>\n",
              "      <td>right_2018_07_16_17_16_31_617.jpg</td>\n",
              "      <td>0.0</td>\n",
              "      <td>0.0</td>\n",
              "      <td>0.0</td>\n",
              "    </tr>\n",
              "    <tr>\n",
              "      <th>4051</th>\n",
              "      <td>center_2018_07_16_17_16_31_685.jpg</td>\n",
              "      <td>left_2018_07_16_17_16_31_685.jpg</td>\n",
              "      <td>right_2018_07_16_17_16_31_685.jpg</td>\n",
              "      <td>0.0</td>\n",
              "      <td>0.0</td>\n",
              "      <td>0.0</td>\n",
              "    </tr>\n",
              "    <tr>\n",
              "      <th>4052</th>\n",
              "      <td>center_2018_07_16_17_16_32_161.jpg</td>\n",
              "      <td>left_2018_07_16_17_16_32_161.jpg</td>\n",
              "      <td>right_2018_07_16_17_16_32_161.jpg</td>\n",
              "      <td>0.0</td>\n",
              "      <td>0.0</td>\n",
              "      <td>0.0</td>\n",
              "    </tr>\n",
              "  </tbody>\n",
              "</table>\n",
              "</div>\n",
              "      <button class=\"colab-df-convert\" onclick=\"convertToInteractive('df-2c22513c-4371-45b6-8547-63ff1f4b7872')\"\n",
              "              title=\"Convert this dataframe to an interactive table.\"\n",
              "              style=\"display:none;\">\n",
              "        \n",
              "  <svg xmlns=\"http://www.w3.org/2000/svg\" height=\"24px\"viewBox=\"0 0 24 24\"\n",
              "       width=\"24px\">\n",
              "    <path d=\"M0 0h24v24H0V0z\" fill=\"none\"/>\n",
              "    <path d=\"M18.56 5.44l.94 2.06.94-2.06 2.06-.94-2.06-.94-.94-2.06-.94 2.06-2.06.94zm-11 1L8.5 8.5l.94-2.06 2.06-.94-2.06-.94L8.5 2.5l-.94 2.06-2.06.94zm10 10l.94 2.06.94-2.06 2.06-.94-2.06-.94-.94-2.06-.94 2.06-2.06.94z\"/><path d=\"M17.41 7.96l-1.37-1.37c-.4-.4-.92-.59-1.43-.59-.52 0-1.04.2-1.43.59L10.3 9.45l-7.72 7.72c-.78.78-.78 2.05 0 2.83L4 21.41c.39.39.9.59 1.41.59.51 0 1.02-.2 1.41-.59l7.78-7.78 2.81-2.81c.8-.78.8-2.07 0-2.86zM5.41 20L4 18.59l7.72-7.72 1.47 1.35L5.41 20z\"/>\n",
              "  </svg>\n",
              "      </button>\n",
              "      \n",
              "  <style>\n",
              "    .colab-df-container {\n",
              "      display:flex;\n",
              "      flex-wrap:wrap;\n",
              "      gap: 12px;\n",
              "    }\n",
              "\n",
              "    .colab-df-convert {\n",
              "      background-color: #E8F0FE;\n",
              "      border: none;\n",
              "      border-radius: 50%;\n",
              "      cursor: pointer;\n",
              "      display: none;\n",
              "      fill: #1967D2;\n",
              "      height: 32px;\n",
              "      padding: 0 0 0 0;\n",
              "      width: 32px;\n",
              "    }\n",
              "\n",
              "    .colab-df-convert:hover {\n",
              "      background-color: #E2EBFA;\n",
              "      box-shadow: 0px 1px 2px rgba(60, 64, 67, 0.3), 0px 1px 3px 1px rgba(60, 64, 67, 0.15);\n",
              "      fill: #174EA6;\n",
              "    }\n",
              "\n",
              "    [theme=dark] .colab-df-convert {\n",
              "      background-color: #3B4455;\n",
              "      fill: #D2E3FC;\n",
              "    }\n",
              "\n",
              "    [theme=dark] .colab-df-convert:hover {\n",
              "      background-color: #434B5C;\n",
              "      box-shadow: 0px 1px 3px 1px rgba(0, 0, 0, 0.15);\n",
              "      filter: drop-shadow(0px 1px 2px rgba(0, 0, 0, 0.3));\n",
              "      fill: #FFFFFF;\n",
              "    }\n",
              "  </style>\n",
              "\n",
              "      <script>\n",
              "        const buttonEl =\n",
              "          document.querySelector('#df-2c22513c-4371-45b6-8547-63ff1f4b7872 button.colab-df-convert');\n",
              "        buttonEl.style.display =\n",
              "          google.colab.kernel.accessAllowed ? 'block' : 'none';\n",
              "\n",
              "        async function convertToInteractive(key) {\n",
              "          const element = document.querySelector('#df-2c22513c-4371-45b6-8547-63ff1f4b7872');\n",
              "          const dataTable =\n",
              "            await google.colab.kernel.invokeFunction('convertToInteractive',\n",
              "                                                     [key], {});\n",
              "          if (!dataTable) return;\n",
              "\n",
              "          const docLinkHtml = 'Like what you see? Visit the ' +\n",
              "            '<a target=\"_blank\" href=https://colab.research.google.com/notebooks/data_table.ipynb>data table notebook</a>'\n",
              "            + ' to learn more about interactive tables.';\n",
              "          element.innerHTML = '';\n",
              "          dataTable['output_type'] = 'display_data';\n",
              "          await google.colab.output.renderOutput(dataTable, element);\n",
              "          const docLink = document.createElement('div');\n",
              "          docLink.innerHTML = docLinkHtml;\n",
              "          element.appendChild(docLink);\n",
              "        }\n",
              "      </script>\n",
              "    </div>\n",
              "  </div>\n",
              "  "
            ]
          },
          "metadata": {},
          "execution_count": 23
        }
      ]
    },
    {
      "cell_type": "code",
      "metadata": {
        "id": "5PAtRJ6bA8m1"
      },
      "source": [
        "def balanceData(data,display=True):\n",
        "  removeindexList = []\n",
        "  nBin=31\n",
        "  samplesPerBin=400\n",
        "  hist, bins = np.histogram(data['steering'], nBin)\n",
        "  #Visualizing using histogram\n",
        "  if display:\n",
        "    center=(bins[:-1]+bins[1:])*0.5\n",
        "    print(center)\n",
        "    plt.bar(center, hist, width=0.06)\n",
        "    plt.plot((-1,1),(samplesPerBin,samplesPerBin))\n",
        "    plt.show()\n",
        "  for j in range(nBin):\n",
        "    binDataList = []\n",
        "    for i in range(len(data['steering'])):\n",
        "      if data['steering'][i] >= bins[j] and data['steering'][i] <= bins[j + 1]:\n",
        "        binDataList.append(i)\n",
        "    binDataList = shuffle(binDataList)\n",
        "    #To generate a list of data to be removed.\n",
        "    binDataList = binDataList[samplesPerBin:]\n",
        "    removeindexList.extend(binDataList)\n",
        " \n",
        "  print('Removed Images:', len(removeindexList))\n",
        "  #To remove the data from actual data \n",
        "  data.drop(data.index[removeindexList], inplace=True)\n",
        "  print('Remaining Images:', len(data))\n",
        "  if display:\n",
        "    hist, bins = np.histogram(data['steering'], nBin)\n",
        "    plt.bar(center, hist, width=0.06)\n",
        "    plt.plot((-1,1),(samplesPerBin,samplesPerBin))\n",
        "    plt.show()\n",
        "  return data\n",
        "  \n"
      ],
      "execution_count": 24,
      "outputs": []
    },
    {
      "cell_type": "code",
      "metadata": {
        "colab": {
          "base_uri": "https://localhost:8080/",
          "height": 649
        },
        "id": "vuqihdOcEAMo",
        "outputId": "7bfb8ab9-3104-40a3-99db-8f5b67088084"
      },
      "source": [
        "#To balance the data so that it wont result a biased model\n",
        "data = balanceData(data,display=True)"
      ],
      "execution_count": 25,
      "outputs": [
        {
          "output_type": "stream",
          "name": "stdout",
          "text": [
            "[-0.96774194 -0.90322581 -0.83870968 -0.77419355 -0.70967742 -0.64516129\n",
            " -0.58064516 -0.51612903 -0.4516129  -0.38709677 -0.32258065 -0.25806452\n",
            " -0.19354839 -0.12903226 -0.06451613  0.          0.06451613  0.12903226\n",
            "  0.19354839  0.25806452  0.32258065  0.38709677  0.4516129   0.51612903\n",
            "  0.58064516  0.64516129  0.70967742  0.77419355  0.83870968  0.90322581\n",
            "  0.96774194]\n"
          ]
        },
        {
          "output_type": "display_data",
          "data": {
            "text/plain": [
              "<Figure size 432x288 with 1 Axes>"
            ],
            "image/png": "[encoded data removed]"
          },
          "metadata": {
            "needs_background": "light"
          }
        },
        {
          "output_type": "stream",
          "name": "stdout",
          "text": [
            "Removed Images: 2580\n",
            "Remaining Images: 1473\n"
          ]
        },
        {
          "output_type": "display_data",
          "data": {
            "text/plain": [
              "<Figure size 432x288 with 1 Axes>"
            ],
            "image/png": "[encoded data removed]"
          },
          "metadata": {
            "needs_background": "light"
          }
        }
      ]
    },
    {
      "cell_type": "code",
      "metadata": {
        "id": "mdG3zAkjkzsk"
      },
      "source": [
        "def loadData(path,data):\n",
        "  imagesPath=[]\n",
        "  steerings=[]\n",
        "  for i in range(len(data)):\n",
        "    indexedData=data.iloc[i]\n",
        "    print(indexedData)\n",
        "    imagesPath.append(os.path.join(path,'IMG',indexedData[0]))\n",
        "    steerings.append(float(indexedData[3]))\n",
        "  imagesPath = np.asarray(imagesPath)\n",
        "  steerings = np.asarray(steerings)\n",
        "  return imagesPath, steerings\n",
        "  \n",
        "\n",
        "  \n"
      ],
      "execution_count": 26,
      "outputs": []
    },
    {
      "cell_type": "code",
      "metadata": {
        "id": "z7RRCFhvE6GN"
      },
      "source": [
        "imagesPath,steerings=loadData(\"/content/track-master\",data)"
      ],
      "execution_count": null,
      "outputs": []
    },
    {
      "cell_type": "code",
      "metadata": {
        "colab": {
          "base_uri": "https://localhost:8080/"
        },
        "id": "cPcNnxprI9HM",
        "outputId": "eac79c57-e32b-441f-eb2a-9c612d13f4ab"
      },
      "source": [
        "xTrain, xVal, yTrain, yVal = train_test_split(imagesPath, steerings, test_size=0.2,random_state=10)\n",
        "print('Total Training Images: ',len(xTrain))\n",
        "print('Total Validation Images: ',len(xVal))\n"
      ],
      "execution_count": 28,
      "outputs": [
        {
          "output_type": "stream",
          "name": "stdout",
          "text": [
            "Total Training Images:  1178\n",
            "Total Validation Images:  295\n"
          ]
        }
      ]
    },
    {
      "cell_type": "markdown",
      "source": [
        "##**Data Augmentation**\n",
        "\n",
        "\n",
        "\n"
      ],
      "metadata": {
        "id": "JnX955dp7UUR"
      }
    },
    {
      "cell_type": "code",
      "metadata": {
        "id": "8GcnM1bMPFGm"
      },
      "source": [
        "def augImage(imgPath,steering):\n",
        "  #Importing image data into Numpy arrays¶\n",
        "  img=mpimg.imread(imgPath)\n",
        "\n",
        "  #Translate the image\n",
        "  if np.random.rand() <0.5:\n",
        "    pan = iaa.Affine(translate_percent={\"x\": (-0.1, 0.1), \"y\": (-0.1, 0.1)})\n",
        "    img = pan.augment_image(img)\n",
        "  \n",
        "  #Zoom\n",
        "  if np.random.rand() <0.5:\n",
        "    zoom = iaa.Affine(scale=(1, 1.2))\n",
        "    img = zoom.augment_image(img)\n",
        "\n",
        "  #Change the Brightness of image\n",
        "  if np.random.rand() <0.5:\n",
        "    brightness = iaa.Multiply((0.2, 1.2))\n",
        "    img = brightness.augment_image(img)\n",
        "\n",
        "  #Flip image\n",
        "  if np.random.rand() <0.5:\n",
        "    img = cv2.flip(img, 1)\n",
        "    steering = -steering\n",
        "  return img,steering"
      ],
      "execution_count": 29,
      "outputs": []
    },
    {
      "cell_type": "code",
      "metadata": {
        "id": "9zwUHYdRlWCv",
        "colab": {
          "base_uri": "https://localhost:8080/",
          "height": 236
        },
        "outputId": "50f6691e-1079-4215-a1e1-f95ec329d150"
      },
      "source": [
        "#Testing using one image\n",
        "a,_=augImage('/content/track-master/IMG/center_2018_07_16_17_11_43_382.jpg',0)\n",
        "plt.imshow(a)"
      ],
      "execution_count": 43,
      "outputs": [
        {
          "output_type": "execute_result",
          "data": {
            "text/plain": [
              "<matplotlib.image.AxesImage at 0x7f257b5f2310>"
            ]
          },
          "metadata": {},
          "execution_count": 43
        },
        {
          "output_type": "display_data",
          "data": {
            "text/plain": [
              "<Figure size 432x288 with 1 Axes>"
            ],
            "image/png": "[encoded data removed]"
          },
          "metadata": {
            "needs_background": "light"
          }
        }
      ]
    },
    {
      "cell_type": "markdown",
      "source": [
        "## **Preprocessing**"
      ],
      "metadata": {
        "id": "IDo2psQ_0dWa"
      }
    },
    {
      "cell_type": "code",
      "metadata": {
        "id": "2xBa6f5dnKuH"
      },
      "source": [
        "def preProcess(img):\n",
        "  img = img[60:135,:,:]\n",
        "  img = cv2.cvtColor(img, cv2.COLOR_RGB2YUV)\n",
        "  img = cv2.GaussianBlur(img,  (3, 3), 0)\n",
        "  img = cv2.resize(img, (200, 66))\n",
        "  img = img/255\n",
        "  return img"
      ],
      "execution_count": 37,
      "outputs": []
    },
    {
      "cell_type": "markdown",
      "source": [
        "## **Batch Generator**"
      ],
      "metadata": {
        "id": "ChFRfgTi0xOo"
      }
    },
    {
      "cell_type": "code",
      "metadata": {
        "id": "g-EGmUQKN6HZ"
      },
      "source": [
        "def batchGen(imagesPath, steeringList, batchSize, trainFlag):\n",
        "  while True:\n",
        "    imgBatch = []\n",
        "    steeringBatch =[]\n",
        "    for i in range(batchSize):\n",
        "      index = random.randint(0, len(imagesPath) - 1)\n",
        "      if trainFlag:\n",
        "        img, steering = augImage(imagesPath[index], steeringList[index])\n",
        "      else:\n",
        "        img = mpimg.imread(imagesPath[index])\n",
        "        steering = steeringList[index]\n",
        "      img = preProcess(img)\n",
        "      imgBatch.append(img)\n",
        "      steeringBatch.append(steering)\n",
        "    yield (np.asarray(imgBatch),np.asarray(steeringBatch))\n",
        "    "
      ],
      "execution_count": 38,
      "outputs": []
    },
    {
      "cell_type": "code",
      "metadata": {
        "id": "esQN9PoEOaTK"
      },
      "source": [
        "def createModel():\n",
        "  model = Sequential()\n",
        " \n",
        "  model.add(Convolution2D(24, (5, 5), (2, 2), input_shape=(66, 200, 3), activation='elu'))\n",
        "  model.add(Convolution2D(36, (5, 5), (2, 2), activation='elu'))\n",
        "  model.add(Convolution2D(48, (5, 5), (2, 2), activation='elu'))\n",
        "  model.add(Convolution2D(64, (3, 3), activation='elu'))\n",
        "  model.add(Convolution2D(64, (3, 3), activation='elu'))\n",
        " \n",
        "  model.add(Flatten())\n",
        "  model.add(Dense(100, activation = 'elu'))\n",
        "  model.add(Dense(50, activation = 'elu'))\n",
        "  model.add(Dense(10, activation = 'elu'))\n",
        "  model.add(Dense(1))\n",
        "  opt=Adam(learning_rate=0.0001)\n",
        "  #model.compile(loss=\"binary_crossentropy\", optimizer=opt, metrics=[\"accuracy\"])\n",
        "  model.compile(optimizer=opt,loss='mse')\n",
        "  return model"
      ],
      "execution_count": 39,
      "outputs": []
    },
    {
      "cell_type": "code",
      "metadata": {
        "id": "khGFp0E0PVbn",
        "colab": {
          "base_uri": "https://localhost:8080/"
        },
        "outputId": "91543ee3-dc68-4510-cb04-98fb7a2c1bd2"
      },
      "source": [
        "model = createModel()\n",
        "model.summary()\n"
      ],
      "execution_count": 40,
      "outputs": [
        {
          "output_type": "stream",
          "name": "stdout",
          "text": [
            "Model: \"sequential_3\"\n",
            "_________________________________________________________________\n",
            " Layer (type)                Output Shape              Param #   \n",
            "=================================================================\n",
            " conv2d_15 (Conv2D)          (None, 31, 98, 24)        1824      \n",
            "                                                                 \n",
            " conv2d_16 (Conv2D)          (None, 14, 47, 36)        21636     \n",
            "                                                                 \n",
            " conv2d_17 (Conv2D)          (None, 5, 22, 48)         43248     \n",
            "                                                                 \n",
            " conv2d_18 (Conv2D)          (None, 3, 20, 64)         27712     \n",
            "                                                                 \n",
            " conv2d_19 (Conv2D)          (None, 1, 18, 64)         36928     \n",
            "                                                                 \n",
            " flatten_3 (Flatten)         (None, 1152)              0         \n",
            "                                                                 \n",
            " dense_12 (Dense)            (None, 100)               115300    \n",
            "                                                                 \n",
            " dense_13 (Dense)            (None, 50)                5050      \n",
            "                                                                 \n",
            " dense_14 (Dense)            (None, 10)                510       \n",
            "                                                                 \n",
            " dense_15 (Dense)            (None, 1)                 11        \n",
            "                                                                 \n",
            "=================================================================\n",
            "Total params: 252,219\n",
            "Trainable params: 252,219\n",
            "Non-trainable params: 0\n",
            "_________________________________________________________________\n"
          ]
        }
      ]
    },
    {
      "cell_type": "markdown",
      "source": [
        "## **Training process starts here**"
      ],
      "metadata": {
        "id": "vV0BJF_g6SJB"
      }
    },
    {
      "cell_type": "code",
      "metadata": {
        "colab": {
          "base_uri": "https://localhost:8080/"
        },
        "id": "FQDgCaj2QEQ7",
        "outputId": "eea0454a-ae43-4a43-f8d8-0ef10b8e5643"
      },
      "source": [
        "model.fit(batchGen(xTrain, yTrain, 100, 1),\n",
        "                                  steps_per_epoch=300,\n",
        "                                  epochs=15,\n",
        "                                  validation_data=batchGen(xVal, yVal, 100, 0),\n",
        "                                  validation_steps=200,\n",
        "                                  verbose = 1, \n",
        "                                  shuffle = 1)"
      ],
      "execution_count": 41,
      "outputs": [
        {
          "output_type": "stream",
          "name": "stdout",
          "text": [
            "Epoch 1/15\n",
            "300/300 [==============================] - 388s 1s/step - loss: 0.0954 - val_loss: 0.0618\n",
            "Epoch 2/15\n",
            "300/300 [==============================] - 384s 1s/step - loss: 0.0666 - val_loss: 0.0532\n",
            "Epoch 3/15\n",
            "300/300 [==============================] - 365s 1s/step - loss: 0.0624 - val_loss: 0.0534\n",
            "Epoch 4/15\n",
            "300/300 [==============================] - 362s 1s/step - loss: 0.0586 - val_loss: 0.0517\n",
            "Epoch 5/15\n",
            "300/300 [==============================] - 361s 1s/step - loss: 0.0540 - val_loss: 0.0463\n",
            "Epoch 6/15\n",
            "300/300 [==============================] - 363s 1s/step - loss: 0.0490 - val_loss: 0.0450\n",
            "Epoch 7/15\n",
            "300/300 [==============================] - 359s 1s/step - loss: 0.0470 - val_loss: 0.0362\n",
            "Epoch 8/15\n",
            "300/300 [==============================] - 362s 1s/step - loss: 0.0427 - val_loss: 0.0344\n",
            "Epoch 9/15\n",
            "300/300 [==============================] - 362s 1s/step - loss: 0.0420 - val_loss: 0.0347\n",
            "Epoch 10/15\n",
            "300/300 [==============================] - 360s 1s/step - loss: 0.0382 - val_loss: 0.0317\n",
            "Epoch 11/15\n",
            "300/300 [==============================] - 360s 1s/step - loss: 0.0372 - val_loss: 0.0331\n",
            "Epoch 12/15\n",
            "300/300 [==============================] - 360s 1s/step - loss: 0.0351 - val_loss: 0.0321\n",
            "Epoch 13/15\n",
            "300/300 [==============================] - 361s 1s/step - loss: 0.0338 - val_loss: 0.0327\n",
            "Epoch 14/15\n",
            "300/300 [==============================] - 361s 1s/step - loss: 0.0327 - val_loss: 0.0324\n",
            "Epoch 15/15\n",
            "300/300 [==============================] - 361s 1s/step - loss: 0.0325 - val_loss: 0.0323\n"
          ]
        },
        {
          "output_type": "execute_result",
          "data": {
            "text/plain": [
              "<keras.callbacks.History at 0x7f257fdd44d0>"
            ]
          },
          "metadata": {},
          "execution_count": 41
        }
      ]
    },
    {
      "cell_type": "code",
      "metadata": {
        "id": "iF-nSrmSJaSr"
      },
      "source": [
        "model.save('/content/selfdrivingmodel.h5') #saving model\n"
      ],
      "execution_count": 42,
      "outputs": []
    },
    {
      "cell_type": "code",
      "metadata": {
        "id": "x8hYz2lYZ4KO"
      },
      "source": [
        "print('Setting UP')\n",
        "import os\n",
        "os.environ['TF_CPP_MIN_LOG_LEVEL'] = '3'\n",
        "import socketio\n",
        "import eventlet\n",
        "import numpy as np\n",
        "from flask import Flask\n",
        "from tensorflow.keras.models import load_model\n",
        "import base64\n",
        "from io import BytesIO\n",
        "from PIL import Image\n",
        "import cv2\n",
        " \n",
        "#### FOR REAL TIME COMMUNICATION BETWEEN CLIENT AND SERVER\n",
        "sio = socketio.Server()\n",
        "#### FLASK IS A MICRO WEB FRAMEWORK WRITTEN IN PYTHON\n",
        "app = Flask(__name__)  # '__main__'\n",
        " \n",
        "maxSpeed = 10\n",
        " \n",
        " \n",
        "def preProcess(img):\n",
        "  img = img[60:135,:,:]\n",
        "  img = cv2.cvtColor(img, cv2.COLOR_RGB2YUV)\n",
        "  img = cv2.GaussianBlur(img,  (3, 3), 0)\n",
        "  img = cv2.resize(img, (200, 66))\n",
        "  img = img/255\n",
        "  return img\n",
        " \n",
        " \n",
        "@sio.on('telemetry')\n",
        "def telemetry(sid, data):\n",
        "  speed = float(data['speed'])\n",
        "  image = Image.open(BytesIO(base64.b64decode(data['image'])))\n",
        "  image = np.asarray(image)\n",
        "  image = preProcess(image)\n",
        "  image = np.array([image])\n",
        "  steering = float(model.predict(image))\n",
        "  throttle = 1.0 - speed / maxSpeed\n",
        "  print(f'{steering}, {throttle}, {speed}')\n",
        "  sendControl(steering, throttle)\n",
        " \n",
        " \n",
        "@sio.on('connect')\n",
        "def connect(sid, environ):\n",
        "  print('Connected')\n",
        "  sendControl(0, 0)\n",
        " \n",
        " \n",
        "def sendControl(steering, throttle):\n",
        "  sio.emit('steer', data={\n",
        " 'steering_angle': steering.__str__(),\n",
        "  'throttle': throttle.__str__()\n",
        "    })\n",
        " \n",
        " \n",
        "if __name__ == '__main__':\n",
        "  model = load_model('selfdrivingmodel.h5')\n",
        "  app = socketio.Middleware(sio, app)\n",
        "  ### LISTEN TO PORT 4567\n",
        "  eventlet.wsgi.server(eventlet.listen(('', 4567)), app)"
      ],
      "execution_count": null,
      "outputs": []
    }
  ]
}